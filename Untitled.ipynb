{
 "cells": [
  {
   "cell_type": "code",
   "execution_count": 1,
   "metadata": {},
   "outputs": [],
   "source": [
    "import json"
   ]
  },
  {
   "cell_type": "code",
   "execution_count": 14,
   "metadata": {},
   "outputs": [],
   "source": [
    "with open('Holsted_old.json') as fp:\n",
    "    holsted = json.load(fp)"
   ]
  },
  {
   "cell_type": "code",
   "execution_count": 20,
   "metadata": {},
   "outputs": [],
   "source": [
    "with open('Maintainability_old.json') as fp:\n",
    "    Maintainability = json.load(fp)"
   ]
  },
  {
   "cell_type": "code",
   "execution_count": 7,
   "metadata": {},
   "outputs": [],
   "source": [
    "m = '''h1\n",
    "h2\n",
    "N1\n",
    "N2\n",
    "vocabulary\n",
    "length\n",
    "calculated_length\n",
    "volume\n",
    "difficulty\n",
    "effort\n",
    "time\n",
    "bugs'''.split('\\n')"
   ]
  },
  {
   "cell_type": "code",
   "execution_count": 15,
   "metadata": {},
   "outputs": [
    {
     "data": {
      "text/plain": [
       "{'h1': 3.764705882352941,\n",
       " 'h2': 13.294117647058824,\n",
       " 'N1': 7.705882352941177,\n",
       " 'N2': 15.0,\n",
       " 'vocabulary': 17.058823529411764,\n",
       " 'length': 22.705882352941178,\n",
       " 'calculated_length': 74.22728408443669,\n",
       " 'volume': 117.30717199413766,\n",
       " 'difficulty': 2.121367320217257,\n",
       " 'effort': 647.1363716787772,\n",
       " 'time': 35.95202064882095,\n",
       " 'bugs': 0.03910239066471256}"
      ]
     },
     "execution_count": 15,
     "metadata": {},
     "output_type": "execute_result"
    }
   ],
   "source": [
    "average = {k: 0 for k in m}\n",
    "\n",
    "for modul in holsted.values():\n",
    "    for k, v in zip(m, modul['total']):\n",
    "        average[k] += v\n",
    "average = {k: v/len(holsted) for k, v in average.items()}\n",
    "average"
   ]
  },
  {
   "cell_type": "code",
   "execution_count": 13,
   "metadata": {},
   "outputs": [
    {
     "data": {
      "text/plain": [
       "{'h1': 1.8846153846153846,\n",
       " 'h2': 6.884615384615385,\n",
       " 'N1': 4.038461538461538,\n",
       " 'N2': 7.730769230769231,\n",
       " 'vocabulary': 8.76923076923077,\n",
       " 'length': 11.76923076923077,\n",
       " 'calculated_length': 36.66082169720053,\n",
       " 'volume': 58.975193597517894,\n",
       " 'difficulty': 1.0472074222074221,\n",
       " 'effort': 258.003348537051,\n",
       " 'time': 14.3335193631695,\n",
       " 'bugs': 0.019658397865839297}"
      ]
     },
     "execution_count": 13,
     "metadata": {},
     "output_type": "execute_result"
    }
   ],
   "source": [
    "average = {k: 0 for k in m}\n",
    "\n",
    "for modul in holsted.values():\n",
    "    for k, v in zip(m, modul['total']):\n",
    "        average[k] += v\n",
    "average = {k: v/len(holsted) for k, v in average.items()}\n",
    "average"
   ]
  },
  {
   "cell_type": "code",
   "execution_count": 21,
   "metadata": {},
   "outputs": [
    {
     "data": {
      "text/plain": [
       "61.53430102118702"
      ]
     },
     "execution_count": 21,
     "metadata": {},
     "output_type": "execute_result"
    }
   ],
   "source": [
    "average = 0\n",
    "for M in Maintainability.values():\n",
    "    average += M['mi']\n",
    "average = average/len(Maintainability)\n",
    "average"
   ]
  }
 ],
 "metadata": {
  "kernelspec": {
   "display_name": "Python 3",
   "language": "python",
   "name": "python3"
  },
  "language_info": {
   "codemirror_mode": {
    "name": "ipython",
    "version": 3
   },
   "file_extension": ".py",
   "mimetype": "text/x-python",
   "name": "python",
   "nbconvert_exporter": "python",
   "pygments_lexer": "ipython3",
   "version": "3.7.5"
  }
 },
 "nbformat": 4,
 "nbformat_minor": 2
}
