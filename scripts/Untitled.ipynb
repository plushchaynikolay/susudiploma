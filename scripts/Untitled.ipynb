{
 "cells": [
  {
   "cell_type": "code",
   "execution_count": 1,
   "metadata": {},
   "outputs": [],
   "source": [
    "import pandas as pd"
   ]
  },
  {
   "cell_type": "code",
   "execution_count": 2,
   "metadata": {},
   "outputs": [],
   "source": [
    "import matplotlib.pyplot as plt"
   ]
  },
  {
   "cell_type": "code",
   "execution_count": null,
   "metadata": {},
   "outputs": [],
   "source": [
    "fig, ax = plt.subplots(figsize=(5, 3))\n",
    "ax.stackplot(yrs, rng + rnd, labels=['Eastasia', 'Eurasia', 'Oceania'])\n",
    "ax.set_title('Combined debt growth over time')\n",
    "ax.legend(loc='upper left')\n",
    "ax.set_ylabel('Total debt')\n",
    "ax.set_xlim(xmin=yrs[0], xmax=yrs[-1])\n",
    "fig.tight_layout()\n",
    " \n",
    "plt.show()"
   ]
  },
  {
   "cell_type": "code",
   "execution_count": 22,
   "metadata": {},
   "outputs": [],
   "source": [
    "df = pd.Series([\n",
    "    100,100,100,100,100, # 0-5\n",
    "    100,100,100,100,100, # 5-10\n",
    "    100,100,100,100,100, # 10-15\n",
    "    100,100,100,100,100, # 15-20\n",
    "    99,98,96,93,89,     # 20-25\n",
    "    87,85,               # 25-27\n",
    "])"
   ]
  },
  {
   "cell_type": "code",
   "execution_count": 22,
   "metadata": {},
   "outputs": [],
   "source": [
    "df = pd.Series([\n",
    "    100,100,100,100,100, # 0-5\n",
    "    100,100,100,100,100, # 5-10\n",
    "    100,100,100,100,100, # 10-15\n",
    "    100,100,100,100,100, # 15-20\n",
    "    99,98,96,93,89,     # 20-25\n",
    "    87,85,               # 25-27\n",
    "])"
   ]
  },
  {
   "cell_type": "code",
   "execution_count": 32,
   "metadata": {},
   "outputs": [
    {
     "data": {
      "image/png": "[encoded data removed]",
      "text/plain": [
       "<Figure size 576x432 with 1 Axes>"
      ]
     },
     "metadata": {
      "needs_background": "light"
     },
     "output_type": "display_data"
    }
   ],
   "source": [
    "df.plot(figsize=(8, 6), marker='x')\n",
    "ax = plt.gca()  # получаем текущий объект Axes, на который ссылается ma.plot()\n",
    "ax.set_xlabel('rps')\n",
    "ax.set_ylabel('%')\n",
    "# ax.set_title('Процент успешно принятых запросов')\n",
    "ax.grid(True)"
   ]
  },
  {
   "cell_type": "code",
   "execution_count": 37,
   "metadata": {},
   "outputs": [
    {
     "data": {
      "image/png": "[encoded data removed]",
      "text/plain": [
       "<Figure size 576x288 with 1 Axes>"
      ]
     },
     "metadata": {
      "needs_background": "light"
     },
     "output_type": "display_data"
    }
   ],
   "source": [
    "fig, ax = plt.subplots(figsize=(8, 4))\n",
    "\n",
    "x = [10,  15,  18,  20,  21, 22, 23, 25]\n",
    "y = [100, 100, 100, 99,  99, 98, 95, 95]\n",
    "ax.plot(x, y, marker='x')\n",
    "ax.set_ylabel('%')\n",
    "ax.set_xlabel('rps')\n",
    "ax.grid(True)\n",
    "plt.show()"
   ]
  },
  {
   "cell_type": "code",
   "execution_count": null,
   "metadata": {},
   "outputs": [],
   "source": []
  },
  {
   "cell_type": "code",
   "execution_count": null,
   "metadata": {},
   "outputs": [],
   "source": []
  },
  {
   "cell_type": "code",
   "execution_count": 17,
   "metadata": {},
   "outputs": [],
   "source": [
    "import json"
   ]
  },
  {
   "cell_type": "code",
   "execution_count": 14,
   "metadata": {},
   "outputs": [],
   "source": [
    "with open('Holsted_old.json') as fp:\n",
    "    holsted = json.load(fp)"
   ]
  },
  {
   "cell_type": "code",
   "execution_count": 20,
   "metadata": {},
   "outputs": [],
   "source": [
    "with open('Maintainability_old.json') as fp:\n",
    "    Maintainability = json.load(fp)"
   ]
  },
  {
   "cell_type": "code",
   "execution_count": 7,
   "metadata": {},
   "outputs": [],
   "source": [
    "m = '''h1\n",
    "h2\n",
    "N1\n",
    "N2\n",
    "vocabulary\n",
    "length\n",
    "calculated_length\n",
    "volume\n",
    "difficulty\n",
    "effort\n",
    "time\n",
    "bugs'''.split('\\n')"
   ]
  },
  {
   "cell_type": "code",
   "execution_count": 19,
   "metadata": {},
   "outputs": [
    {
     "data": {
      "text/plain": [
       "{'h1': 2.4682539682539684,\n",
       " 'h2': 8.936507936507937,\n",
       " 'N1': 6.880952380952381,\n",
       " 'N2': 12.428571428571429,\n",
       " 'vocabulary': 11.404761904761905,\n",
       " 'length': 19.30952380952381,\n",
       " 'calculated_length': 48.54170695810413,\n",
       " 'volume': 98.55322190416238,\n",
       " 'difficulty': 1.6917066530357654,\n",
       " 'effort': 530.6897179405125,\n",
       " 'time': 29.482762107806256,\n",
       " 'bugs': 0.03285107396805413}"
      ]
     },
     "execution_count": 19,
     "metadata": {},
     "output_type": "execute_result"
    }
   ],
   "source": [
    "average = {k: 0 for k in m}\n",
    "\n",
    "for modul in halsted.values():\n",
    "    if 'total' in modul:\n",
    "        for k, v in zip(m, modul['total']):\n",
    "            average[k] += v\n",
    "average = {k: v/len(halsted) for k, v in average.items()}\n",
    "average"
   ]
  },
  {
   "cell_type": "code",
   "execution_count": 13,
   "metadata": {},
   "outputs": [
    {
     "data": {
      "text/plain": [
       "{'h1': 1.8846153846153846,\n",
       " 'h2': 6.884615384615385,\n",
       " 'N1': 4.038461538461538,\n",
       " 'N2': 7.730769230769231,\n",
       " 'vocabulary': 8.76923076923077,\n",
       " 'length': 11.76923076923077,\n",
       " 'calculated_length': 36.66082169720053,\n",
       " 'volume': 58.975193597517894,\n",
       " 'difficulty': 1.0472074222074221,\n",
       " 'effort': 258.003348537051,\n",
       " 'time': 14.3335193631695,\n",
       " 'bugs': 0.019658397865839297}"
      ]
     },
     "execution_count": 13,
     "metadata": {},
     "output_type": "execute_result"
    }
   ],
   "source": [
    "average = {k: 0 for k in m}\n",
    "\n",
    "for modul in holsted.values():\n",
    "    for k, v in zip(m, modul['total']):\n",
    "        average[k] += v\n",
    "average = {k: v/len(holsted) for k, v in average.items()}\n",
    "average"
   ]
  },
  {
   "cell_type": "code",
   "execution_count": 22,
   "metadata": {},
   "outputs": [],
   "source": [
    "with open('../../../NIT/saleer-bot/maintainability.json') as fp:\n",
    "    Maintainability = json.load(fp)"
   ]
  },
  {
   "cell_type": "code",
   "execution_count": 23,
   "metadata": {},
   "outputs": [
    {
     "ename": "KeyError",
     "evalue": "'mi'",
     "output_type": "error",
     "traceback": [
      "\u001b[0;31m---------------------------------------------------------------------------\u001b[0m",
      "\u001b[0;31mKeyError\u001b[0m                                  Traceback (most recent call last)",
      "\u001b[0;32m<ipython-input-23-6b14b7b7370d>\u001b[0m in \u001b[0;36m<module>\u001b[0;34m\u001b[0m\n\u001b[1;32m      1\u001b[0m \u001b[0maverage\u001b[0m \u001b[0;34m=\u001b[0m \u001b[0;36m0\u001b[0m\u001b[0;34m\u001b[0m\u001b[0;34m\u001b[0m\u001b[0m\n\u001b[1;32m      2\u001b[0m \u001b[0;32mfor\u001b[0m \u001b[0mM\u001b[0m \u001b[0;32min\u001b[0m \u001b[0mMaintainability\u001b[0m\u001b[0;34m.\u001b[0m\u001b[0mvalues\u001b[0m\u001b[0;34m(\u001b[0m\u001b[0;34m)\u001b[0m\u001b[0;34m:\u001b[0m\u001b[0;34m\u001b[0m\u001b[0;34m\u001b[0m\u001b[0m\n\u001b[0;32m----> 3\u001b[0;31m     \u001b[0maverage\u001b[0m \u001b[0;34m+=\u001b[0m \u001b[0mM\u001b[0m\u001b[0;34m[\u001b[0m\u001b[0;34m'mi'\u001b[0m\u001b[0;34m]\u001b[0m\u001b[0;34m\u001b[0m\u001b[0;34m\u001b[0m\u001b[0m\n\u001b[0m\u001b[1;32m      4\u001b[0m \u001b[0maverage\u001b[0m \u001b[0;34m=\u001b[0m \u001b[0maverage\u001b[0m\u001b[0;34m/\u001b[0m\u001b[0mlen\u001b[0m\u001b[0;34m(\u001b[0m\u001b[0mMaintainability\u001b[0m\u001b[0;34m)\u001b[0m\u001b[0;34m\u001b[0m\u001b[0;34m\u001b[0m\u001b[0m\n\u001b[1;32m      5\u001b[0m \u001b[0maverage\u001b[0m\u001b[0;34m\u001b[0m\u001b[0;34m\u001b[0m\u001b[0m\n",
      "\u001b[0;31mKeyError\u001b[0m: 'mi'"
     ]
    }
   ],
   "source": [
    "average = 0\n",
    "for M in Maintainability.values():\n",
    "    average += M['mi']\n",
    "average = average/len(Maintainability)\n",
    "average"
   ]
  },
  {
   "cell_type": "code",
   "execution_count": 26,
   "metadata": {},
   "outputs": [
    {
     "data": {
      "text/plain": [
       "47.58717938467403"
      ]
     },
     "execution_count": 26,
     "metadata": {},
     "output_type": "execute_result"
    }
   ],
   "source": [
    "average = 0\n",
    "for M in Maintainability.values():\n",
    "    if 'mi' in M:\n",
    "        average += M['mi']\n",
    "average = average/len(Maintainability)\n",
    "average"
   ]
  },
  {
   "cell_type": "code",
   "execution_count": 25,
   "metadata": {},
   "outputs": [
    {
     "data": {
      "text/plain": [
       "{'engine/dev_config.py': {'mi': 77.39340138676108, 'rank': 'A'},\n",
       " 'engine/config.py': {'mi': 78.13406233923362, 'rank': 'A'},\n",
       " 'engine/prodstat.py': {'mi': 95.35390802019138, 'rank': 'A'},\n",
       " 'engine/shtdwntest.py': {'mi': 66.00911074395033, 'rank': 'A'},\n",
       " 'engine/stats.py': {'mi': 100.0, 'rank': 'A'},\n",
       " 'engine/sendusd.py': {'mi': 57.44135818670395, 'rank': 'A'},\n",
       " 'engine/config_common.py': {'mi': 69.56906226758079, 'rank': 'A'},\n",
       " 'engine/engine.py': {'mi': 87.07219763630367, 'rank': 'A'},\n",
       " 'engine/periodic/periodic.py': {'mi': 52.63563968816441, 'rank': 'A'},\n",
       " 'engine/arpc/exc.py': {'mi': 100.0, 'rank': 'A'},\n",
       " 'engine/arpc/server.py': {'mi': 81.08928014496507, 'rank': 'A'},\n",
       " 'engine/arpc/dispatcher.py': {'mi': 66.84468036646248, 'rank': 'A'},\n",
       " 'engine/arpc/assistant.py': {'mi': 63.851922938878204, 'rank': 'A'},\n",
       " 'engine/arpc/client.py': {'mi': 81.50972815728134, 'rank': 'A'},\n",
       " 'engine/arpc/protocols/picklerpc.py': {'mi': 33.2142849681052, 'rank': 'A'},\n",
       " 'engine/arpc/protocols/jsonrpc.py': {'mi': 34.98531869966707, 'rank': 'A'},\n",
       " 'engine/arpc/protocols/jsonsrpc.py': {'mi': 40.20991404498837, 'rank': 'A'},\n",
       " 'engine/arpc/transports/aiohttp.py': {'mi': 68.82543377870485, 'rank': 'A'},\n",
       " 'engine/arpc/transports/zmq.py': {'mi': 80.93348520454981, 'rank': 'A'},\n",
       " 'engine/arpc/transports/nats.py': {'mi': 61.61342403994604, 'rank': 'A'},\n",
       " 'engine/saleerbot/common_imports.py': {'error': 'invalid character in identifier (<unknown>, line 1)'},\n",
       " 'engine/saleerbot/main.py': {'error': 'invalid character in identifier (<unknown>, line 1)'},\n",
       " 'engine/saleerbot/common.py': {'error': 'invalid character in identifier (<unknown>, line 1)'},\n",
       " 'engine/saleerbot/mbonus/admin.py': {'mi': 55.026804103318206, 'rank': 'A'},\n",
       " 'engine/saleerbot/mbonus/monitor.py': {'mi': 59.98845802567471, 'rank': 'A'},\n",
       " 'engine/saleerbot/profile/profile.py': {'error': 'invalid character in identifier (<unknown>, line 1)'},\n",
       " 'engine/saleerbot/profile/show.py': {'error': 'invalid character in identifier (<unknown>, line 1)'},\n",
       " 'engine/saleerbot/transactions/locks.py': {'mi': 56.38655752362668,\n",
       "  'rank': 'A'},\n",
       " 'engine/saleerbot/transactions/locks_list.py': {'mi': 69.32498432666196,\n",
       "  'rank': 'A'},\n",
       " 'engine/saleerbot/transactions/transactions_log.py': {'mi': 69.32498432666196,\n",
       "  'rank': 'A'},\n",
       " 'engine/saleerbot/transactions/operations.py': {'mi': 100.0, 'rank': 'A'},\n",
       " 'engine/saleerbot/transactions/calc.py': {'mi': 53.11247602732326,\n",
       "  'rank': 'A'},\n",
       " 'engine/saleerbot/transactions/find_lock.py': {'mi': 67.87967487402553,\n",
       "  'rank': 'A'},\n",
       " 'engine/saleerbot/transactions/unlock.py': {'mi': 71.96796573288448,\n",
       "  'rank': 'A'},\n",
       " 'engine/saleerbot/transactions/balance.py': {'mi': 56.38655752362668,\n",
       "  'rank': 'A'},\n",
       " 'engine/saleerbot/transactions/lock.py': {'mi': 72.7560853341059,\n",
       "  'rank': 'A'},\n",
       " 'engine/saleerbot/transactions/action.py': {'mi': 100.0, 'rank': 'A'},\n",
       " 'engine/saleerbot/admin/langs.py': {'mi': 70.0549863289577, 'rank': 'A'},\n",
       " 'engine/saleerbot/admin/block.py': {'mi': 63.505297446757794, 'rank': 'A'},\n",
       " 'engine/saleerbot/admin/ban.py': {'mi': 56.588552374664225, 'rank': 'A'},\n",
       " 'engine/saleerbot/admin/admin.py': {'mi': 68.84790242078988, 'rank': 'A'},\n",
       " 'engine/saleerbot/admin/multicheque.py': {'mi': 51.346993348761295,\n",
       "  'rank': 'A'},\n",
       " 'engine/saleerbot/admin/moderators.py': {'mi': 44.60374557569976,\n",
       "  'rank': 'A'},\n",
       " 'engine/saleerbot/admin/balance.py': {'mi': 57.05610503981365, 'rank': 'A'},\n",
       " 'engine/saleerbot/admin/comission.py': {'mi': 59.438767425123814,\n",
       "  'rank': 'A'},\n",
       " 'engine/saleerbot/admin/settings.py': {'mi': 53.15715773191579, 'rank': 'A'},\n",
       " 'engine/saleerbot/admin/msg.py': {'mi': 66.67155599748924, 'rank': 'A'},\n",
       " 'engine/saleerbot/admin/broadcast.py': {'mi': 49.50553558888415, 'rank': 'A'},\n",
       " 'engine/saleerbot/admin/stat.py': {'mi': 71.60025609942842, 'rank': 'A'},\n",
       " 'engine/saleerbot/help/help.py': {'error': 'invalid character in identifier (<unknown>, line 1)'},\n",
       " 'engine/saleerbot/settings/lang.py': {'error': 'invalid character in identifier (<unknown>, line 1)'},\n",
       " 'engine/saleerbot/settings/details.py': {'error': 'invalid character in identifier (<unknown>, line 1)'},\n",
       " 'engine/saleerbot/settings/settings.py': {'error': 'invalid character in identifier (<unknown>, line 1)'},\n",
       " 'engine/saleerbot/settings/broadcast.py': {'error': 'invalid character in identifier (<unknown>, line 1)'},\n",
       " 'engine/saleerbot/account/cheque.py': {'mi': 38.664307295209625, 'rank': 'A'},\n",
       " 'engine/saleerbot/account/notification2.py': {'error': 'invalid character in identifier (<unknown>, line 1)'},\n",
       " 'engine/saleerbot/account/refill2.py': {'error': 'invalid character in identifier (<unknown>, line 1)'},\n",
       " 'engine/saleerbot/account/withdraw2.py': {'error': 'invalid character in identifier (<unknown>, line 1)'},\n",
       " 'engine/saleerbot/account/notification.py': {'error': 'invalid character in identifier (<unknown>, line 1)'},\n",
       " 'engine/saleerbot/account/refill.py': {'error': 'invalid character in identifier (<unknown>, line 1)'},\n",
       " 'engine/saleerbot/account/account.py': {'error': 'invalid character in identifier (<unknown>, line 1)'},\n",
       " 'engine/saleerbot/account/statement.py': {'mi': 57.98526139743654,\n",
       "  'rank': 'A'},\n",
       " 'engine/saleerbot/account/transfer.py': {'error': 'invalid character in identifier (<unknown>, line 1)'},\n",
       " 'engine/saleerbot/account/multicheque.py': {'mi': 62.41478355049499,\n",
       "  'rank': 'A'},\n",
       " 'engine/saleerbot/account/withdraw.py': {'error': 'invalid character in identifier (<unknown>, line 1)'},\n",
       " 'engine/saleerbot/account/withdraw_tools.py': {'mi': 51.00534551212872,\n",
       "  'rank': 'A'},\n",
       " 'engine/saleerbot/exchange/calc_ex.py': {'error': 'invalid character in identifier (<unknown>, line 1)'},\n",
       " 'engine/saleerbot/exchange/exchange.py': {'error': 'invalid character in identifier (<unknown>, line 1)'},\n",
       " 'engine/saleerbot/exchange/moderator.py': {'error': 'invalid character in identifier (<unknown>, line 1)'},\n",
       " 'engine/saleerbot/tools/currency_format.py': {'mi': 68.45620632483141,\n",
       "  'rank': 'A'},\n",
       " 'engine/saleerbot/tools/ratesvc.py': {'mi': 58.36962128193203, 'rank': 'A'},\n",
       " 'engine/saleerbot/tools/keyboards.py': {'mi': 100.0, 'rank': 'A'},\n",
       " 'engine/saleerbot/tools/random_secret.py': {'mi': 100.0, 'rank': 'A'},\n",
       " 'engine/saleerbot/tools/check_address.py': {'mi': 100.0, 'rank': 'A'},\n",
       " 'engine/saleerbot/tools/timedelta_split.py': {'mi': 56.54055421812422,\n",
       "  'rank': 'A'},\n",
       " 'engine/saleerbot/tools/wizardhelper.py': {'mi': 60.23911454441642,\n",
       "  'rank': 'A'},\n",
       " 'engine/saleerbot/tools/newid.py': {'mi': 100.0, 'rank': 'A'},\n",
       " 'engine/saleerbot/tools/mixpanel.py': {'mi': 70.78220964174128, 'rank': 'A'},\n",
       " 'engine/saleerbot/tools/coinmarketcap.py': {'mi': 55.70018307259521,\n",
       "  'rank': 'A'},\n",
       " 'engine/saleerbot/tools/pathgen.py': {'mi': 74.17383745932607, 'rank': 'A'},\n",
       " 'engine/saleerbot/tools/d_to_d128.py': {'mi': 100.0, 'rank': 'A'},\n",
       " 'engine/saleerbot/tools/live_msg_params.py': {'mi': 100.0, 'rank': 'A'},\n",
       " 'engine/saleerbot/tools/transactionlog.py': {'mi': 100.0, 'rank': 'A'},\n",
       " 'engine/saleerbot/tools/alog.py': {'mi': 100.0, 'rank': 'A'},\n",
       " 'engine/saleerbot/tools/d128_to_d.py': {'mi': 100.0, 'rank': 'A'},\n",
       " 'engine/saleerbot/tools/zeros.py': {'mi': 68.89275447013493, 'rank': 'A'},\n",
       " 'engine/saleerbot/market/market.py': {'error': 'invalid character in identifier (<unknown>, line 1)'},\n",
       " 'engine/saleerbot/market/offers.py': {'error': 'invalid character in identifier (<unknown>, line 1)'},\n",
       " 'engine/saleerbot/market/score.py': {'mi': 58.87902519586034, 'rank': 'A'},\n",
       " 'engine/saleerbot/market/admin.py': {'mi': 39.747520397832496, 'rank': 'A'},\n",
       " 'engine/saleerbot/market/message.py': {'mi': 52.98971108084824, 'rank': 'A'},\n",
       " 'engine/saleerbot/market/currency.py': {'error': 'invalid character in identifier (<unknown>, line 1)'},\n",
       " 'engine/saleerbot/market/offer.py': {'error': 'invalid character in identifier (<unknown>, line 1)'},\n",
       " 'engine/saleerbot/market/monitor.py': {'mi': 49.609966157155945, 'rank': 'A'},\n",
       " 'engine/saleerbot/market/profile.py': {'mi': 54.29800763060906, 'rank': 'A'},\n",
       " 'engine/saleerbot/market/bonus.py': {'mi': 58.61001934790714, 'rank': 'A'},\n",
       " 'engine/saleerbot/market/find.py': {'error': 'invalid character in identifier (<unknown>, line 1)'},\n",
       " 'engine/saleerbot/market/deals.py': {'error': 'invalid character in identifier (<unknown>, line 1)'},\n",
       " 'engine/saleerbot/market/source.py': {'error': 'invalid character in identifier (<unknown>, line 1)'},\n",
       " 'engine/saleerbot/market/moderator.py': {'error': 'invalid character in identifier (<unknown>, line 1)'},\n",
       " 'engine/saleerbot/market/deal.py': {'error': 'invalid character in identifier (<unknown>, line 1)'},\n",
       " 'engine/saleerbot/market/dealb.py': {'error': 'invalid character in identifier (<unknown>, line 1)'},\n",
       " 'engine/saleerbot/partners/ref.py': {'error': 'invalid character in identifier (<unknown>, line 1)'},\n",
       " 'engine/saleerbot/partners/monitor.py': {'error': 'invalid character in identifier (<unknown>, line 1)'},\n",
       " 'engine/saleerbot/partners/partners.py': {'error': 'invalid character in identifier (<unknown>, line 1)'},\n",
       " 'engine/telegram/core.py': {'mi': 3.863224158940779, 'rank': 'C'},\n",
       " 'engine/telegram/commandshandler.py': {'mi': 46.94503444646894, 'rank': 'A'},\n",
       " 'engine/telegram/types.py': {'mi': 100.0, 'rank': 'A'},\n",
       " 'engine/telegram/inlineshandler.py': {'mi': 60.58985843217505, 'rank': 'A'},\n",
       " 'engine/telegram/callbackshandler.py': {'mi': 60.45580858027751, 'rank': 'A'},\n",
       " 'engine/telegram/bot.py': {'mi': 22.403194232264227, 'rank': 'A'},\n",
       " 'engine/telegram/keyboard/exceptions.py': {'mi': 100.0, 'rank': 'A'},\n",
       " 'engine/telegram/keyboard/replyremove.py': {'mi': 100.0, 'rank': 'A'},\n",
       " 'engine/telegram/keyboard/inline.py': {'mi': 100.0, 'rank': 'A'},\n",
       " 'engine/telegram/keyboard/keyboard.py': {'mi': 33.43508635987032,\n",
       "  'rank': 'A'},\n",
       " 'engine/telegram/keyboard/reply.py': {'mi': 53.11514766971356, 'rank': 'A'},\n",
       " 'engine/telegram/runners/webhook.py': {'mi': 35.2792767183386, 'rank': 'A'},\n",
       " 'engine/telegram/runners/webhook_old.py': {'mi': 29.007309080686774,\n",
       "  'rank': 'A'},\n",
       " 'engine/telegram/utilities/escape.py': {'error': 'invalid character in identifier (<unknown>, line 1)'},\n",
       " 'engine/telegram/utilities/datastorage.py': {'error': 'invalid character in identifier (<unknown>, line 1)'},\n",
       " 'engine/motolock/locker.py': {'mi': 44.74737819888504, 'rank': 'A'},\n",
       " 'engine/motolock/locker.old.py': {'mi': 46.80318976521723, 'rank': 'A'},\n",
       " 'engine/j2tools/t.py': {'mi': 70.04122987765201, 'rank': 'A'},\n",
       " 'engine/j2tools/yamlloader.py': {'mi': 75.13979237630272, 'rank': 'A'},\n",
       " 'engine/j2tools/plural.py': {'mi': 35.58302820491877, 'rank': 'A'},\n",
       " 'engine/j2tools/unicode_char.py': {'mi': 100.0, 'rank': 'A'}}"
      ]
     },
     "execution_count": 25,
     "metadata": {},
     "output_type": "execute_result"
    }
   ],
   "source": [
    "Maintainability"
   ]
  }
 ],
 "metadata": {
  "kernelspec": {
   "display_name": "Python 3",
   "language": "python",
   "name": "python3"
  },
  "language_info": {
   "codemirror_mode": {
    "name": "ipython",
    "version": 3
   },
   "file_extension": ".py",
   "mimetype": "text/x-python",
   "name": "python",
   "nbconvert_exporter": "python",
   "pygments_lexer": "ipython3",
   "version": "3.7.5"
  }
 },
 "nbformat": 4,
 "nbformat_minor": 2
}
